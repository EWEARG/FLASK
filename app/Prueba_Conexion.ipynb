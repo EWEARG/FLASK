{
 "cells": [
  {
   "cell_type": "code",
   "execution_count": 3,
   "metadata": {},
   "outputs": [
    {
     "ename": "AttributeError",
     "evalue": "'Connection' object has no attribute 'table_names'",
     "output_type": "error",
     "traceback": [
      "\u001b[1;31m---------------------------------------------------------------------------\u001b[0m",
      "\u001b[1;31mAttributeError\u001b[0m                            Traceback (most recent call last)",
      "Cell \u001b[1;32mIn[3], line 28\u001b[0m\n\u001b[0;32m     25\u001b[0m conn \u001b[39m=\u001b[39m engine\u001b[39m.\u001b[39mconnect()\n\u001b[0;32m     27\u001b[0m \u001b[39m# printing names of the tables present in the database\u001b[39;00m\n\u001b[1;32m---> 28\u001b[0m \u001b[39mprint\u001b[39m(conn\u001b[39m.\u001b[39;49mtable_names())\n",
      "\u001b[1;31mAttributeError\u001b[0m: 'Connection' object has no attribute 'table_names'"
     ]
    }
   ],
   "source": [
    "#from flask import Flask, render_template, request, url_for, redirect \n",
    "#from flask_sqlalchemy import SQLAlchemy \n",
    "#from sqlalchemy import create_engine\n",
    "#from sqlalchemy.sql import func\n",
    "#import pandas as pd\n",
    "\n",
    "#Python ODBC \n",
    "import pyodbc\n",
    "import sqlalchemy as sal\n",
    "from sqlalchemy import create_engine\n",
    "import pandas as pd\n",
    "\n",
    "\n",
    "# OPEN \n",
    "#establish database connection\n",
    "Driver='ODBC Driver 17 for SQL Server'\n",
    "Server='SURUBI037'\n",
    "Database='CAPEX'\n",
    "Trusted_Connection='yes'\n",
    "Database_Con = f'mssql+pyodbc://@{Server}/{Database}?driver={Driver}'\n",
    "xxx = \"mssql+pyodbc://SURUBI037/CAPEX?driver=SQL Server?Trusted_Connection=yes\"\n",
    "\n",
    "engine =sal.create_engine(Database_Con)\n",
    "#engine=sal.create_engine(Database_Con)\n",
    "conn = engine.connect()\n",
    "\n",
    "# printing names of the tables present in the database\n",
    "print(conn.table_names())"
   ]
  },
  {
   "cell_type": "code",
   "execution_count": null,
   "metadata": {},
   "outputs": [],
   "source": [
    "# checking whether the connection was actually established by selecting and displaying contents of table from the database\n",
    "result = engine.execute(“select * from tablename”)\n",
    "for row in result:\n",
    "print (row)\n",
    "result.close()"
   ]
  },
  {
   "cell_type": "code",
   "execution_count": null,
   "metadata": {},
   "outputs": [],
   "source": [
    "# checking whether the connection was actually established by selecting and displaying contents of table from the database\n",
    "result = engine.execute(“select * from tablename”)\n",
    "for row in result:\n",
    "print (row)\n",
    "result.close()"
   ]
  },
  {
   "cell_type": "code",
   "execution_count": 4,
   "metadata": {},
   "outputs": [
    {
     "ename": "ObjectNotExecutableError",
     "evalue": "Not an executable object: 'SELECT [ID_Indicador] ,[NOM_Indicador] ,[TIPO_Indicador] ,[SIRVE_PARA] ,[PROCESO] ,[FORMULA] ,[UNIDADES],[META] \\n            ,[TENDENCIA_ESPERADA] ,[FRECUENCIA_MEDICION] ,[FUENTE_INFORMACION] ,[RESPONSABLE] ,[ACTUALIZADO_DATE],[ACTUALIZADO_POR] \\n            ,[LOG_SQL] FROM [CAPEX].[dbo].[SGI_Indicadores]\\n            '",
     "output_type": "error",
     "traceback": [
      "\u001b[1;31m---------------------------------------------------------------------------\u001b[0m",
      "\u001b[1;31mAttributeError\u001b[0m                            Traceback (most recent call last)",
      "File \u001b[1;32md:\\Proyectos_PYTHON\\FLASK\\Lib\\site-packages\\sqlalchemy\\engine\\base.py:1410\u001b[0m, in \u001b[0;36mConnection.execute\u001b[1;34m(self, statement, parameters, execution_options)\u001b[0m\n\u001b[0;32m   1409\u001b[0m \u001b[39mtry\u001b[39;00m:\n\u001b[1;32m-> 1410\u001b[0m     meth \u001b[39m=\u001b[39m statement\u001b[39m.\u001b[39;49m_execute_on_connection\n\u001b[0;32m   1411\u001b[0m \u001b[39mexcept\u001b[39;00m \u001b[39mAttributeError\u001b[39;00m \u001b[39mas\u001b[39;00m err:\n",
      "\u001b[1;31mAttributeError\u001b[0m: 'str' object has no attribute '_execute_on_connection'",
      "\nThe above exception was the direct cause of the following exception:\n",
      "\u001b[1;31mObjectNotExecutableError\u001b[0m                  Traceback (most recent call last)",
      "Cell \u001b[1;32mIn[4], line 6\u001b[0m\n\u001b[0;32m      1\u001b[0m Consulta_SQL \u001b[39m=\u001b[39m \u001b[39m\"\"\"\u001b[39m\u001b[39mSELECT [ID_Indicador] ,[NOM_Indicador] ,[TIPO_Indicador] ,[SIRVE_PARA] ,[PROCESO] ,[FORMULA] ,[UNIDADES],[META] \u001b[39m\n\u001b[0;32m      2\u001b[0m \u001b[39m            ,[TENDENCIA_ESPERADA] ,[FRECUENCIA_MEDICION] ,[FUENTE_INFORMACION] ,[RESPONSABLE] ,[ACTUALIZADO_DATE],[ACTUALIZADO_POR] \u001b[39m\n\u001b[0;32m      3\u001b[0m \u001b[39m            ,[LOG_SQL] FROM [CAPEX].[dbo].[SGI_Indicadores]\u001b[39m\n\u001b[0;32m      4\u001b[0m \u001b[39m            \u001b[39m\u001b[39m\"\"\"\u001b[39m \n\u001b[1;32m----> 6\u001b[0m pd\u001b[39m.\u001b[39;49mread_sql_query(Consulta_SQL, conn)\n\u001b[0;32m      8\u001b[0m data \u001b[39m=\u001b[39m pd\u001b[39m.\u001b[39mread_sql_query(\u001b[39m\"\u001b[39m\u001b[39mSELECT [ID_Indicador] ,[NOM_Indicador] ,[TIPO_Indicador] ,[SIRVE_PARA] ,[PROCESO] ,[FORMULA] ,[UNIDADES],[META] ,[TENDENCIA_ESPERADA] ,[FRECUENCIA_MEDICION] ,[FUENTE_INFORMACION] ,[RESPONSABLE] ,[ACTUALIZADO_DATE],[ACTUALIZADO_POR] ,[LOG_SQL] FROM [CAPEX].[dbo].[SGI_Indicadores]\u001b[39m\u001b[39m\"\u001b[39m, conn)  \n\u001b[0;32m     10\u001b[0m data\n",
      "File \u001b[1;32md:\\Proyectos_PYTHON\\FLASK\\Lib\\site-packages\\pandas\\io\\sql.py:397\u001b[0m, in \u001b[0;36mread_sql_query\u001b[1;34m(sql, con, index_col, coerce_float, params, parse_dates, chunksize, dtype)\u001b[0m\n\u001b[0;32m    339\u001b[0m \u001b[39m\u001b[39m\u001b[39m\"\"\"\u001b[39;00m\n\u001b[0;32m    340\u001b[0m \u001b[39mRead SQL query into a DataFrame.\u001b[39;00m\n\u001b[0;32m    341\u001b[0m \n\u001b[1;32m   (...)\u001b[0m\n\u001b[0;32m    394\u001b[0m \u001b[39mparameter will be converted to UTC.\u001b[39;00m\n\u001b[0;32m    395\u001b[0m \u001b[39m\"\"\"\u001b[39;00m\n\u001b[0;32m    396\u001b[0m pandas_sql \u001b[39m=\u001b[39m pandasSQL_builder(con)\n\u001b[1;32m--> 397\u001b[0m \u001b[39mreturn\u001b[39;00m pandas_sql\u001b[39m.\u001b[39;49mread_query(\n\u001b[0;32m    398\u001b[0m     sql,\n\u001b[0;32m    399\u001b[0m     index_col\u001b[39m=\u001b[39;49mindex_col,\n\u001b[0;32m    400\u001b[0m     params\u001b[39m=\u001b[39;49mparams,\n\u001b[0;32m    401\u001b[0m     coerce_float\u001b[39m=\u001b[39;49mcoerce_float,\n\u001b[0;32m    402\u001b[0m     parse_dates\u001b[39m=\u001b[39;49mparse_dates,\n\u001b[0;32m    403\u001b[0m     chunksize\u001b[39m=\u001b[39;49mchunksize,\n\u001b[0;32m    404\u001b[0m     dtype\u001b[39m=\u001b[39;49mdtype,\n\u001b[0;32m    405\u001b[0m )\n",
      "File \u001b[1;32md:\\Proyectos_PYTHON\\FLASK\\Lib\\site-packages\\pandas\\io\\sql.py:1560\u001b[0m, in \u001b[0;36mSQLDatabase.read_query\u001b[1;34m(self, sql, index_col, coerce_float, parse_dates, params, chunksize, dtype)\u001b[0m\n\u001b[0;32m   1512\u001b[0m \u001b[39m\u001b[39m\u001b[39m\"\"\"\u001b[39;00m\n\u001b[0;32m   1513\u001b[0m \u001b[39mRead SQL query into a DataFrame.\u001b[39;00m\n\u001b[0;32m   1514\u001b[0m \n\u001b[1;32m   (...)\u001b[0m\n\u001b[0;32m   1556\u001b[0m \n\u001b[0;32m   1557\u001b[0m \u001b[39m\"\"\"\u001b[39;00m\n\u001b[0;32m   1558\u001b[0m args \u001b[39m=\u001b[39m _convert_params(sql, params)\n\u001b[1;32m-> 1560\u001b[0m result \u001b[39m=\u001b[39m \u001b[39mself\u001b[39;49m\u001b[39m.\u001b[39;49mexecute(\u001b[39m*\u001b[39;49margs)\n\u001b[0;32m   1561\u001b[0m columns \u001b[39m=\u001b[39m result\u001b[39m.\u001b[39mkeys()\n\u001b[0;32m   1563\u001b[0m \u001b[39mif\u001b[39;00m chunksize \u001b[39mis\u001b[39;00m \u001b[39mnot\u001b[39;00m \u001b[39mNone\u001b[39;00m:\n",
      "File \u001b[1;32md:\\Proyectos_PYTHON\\FLASK\\Lib\\site-packages\\pandas\\io\\sql.py:1405\u001b[0m, in \u001b[0;36mSQLDatabase.execute\u001b[1;34m(self, *args, **kwargs)\u001b[0m\n\u001b[0;32m   1403\u001b[0m \u001b[39mdef\u001b[39;00m \u001b[39mexecute\u001b[39m(\u001b[39mself\u001b[39m, \u001b[39m*\u001b[39margs, \u001b[39m*\u001b[39m\u001b[39m*\u001b[39mkwargs):\n\u001b[0;32m   1404\u001b[0m \u001b[39m    \u001b[39m\u001b[39m\"\"\"Simple passthrough to SQLAlchemy connectable\"\"\"\u001b[39;00m\n\u001b[1;32m-> 1405\u001b[0m     \u001b[39mreturn\u001b[39;00m \u001b[39mself\u001b[39;49m\u001b[39m.\u001b[39;49mconnectable\u001b[39m.\u001b[39;49mexecution_options()\u001b[39m.\u001b[39;49mexecute(\u001b[39m*\u001b[39;49margs, \u001b[39m*\u001b[39;49m\u001b[39m*\u001b[39;49mkwargs)\n",
      "File \u001b[1;32md:\\Proyectos_PYTHON\\FLASK\\Lib\\site-packages\\sqlalchemy\\engine\\base.py:1412\u001b[0m, in \u001b[0;36mConnection.execute\u001b[1;34m(self, statement, parameters, execution_options)\u001b[0m\n\u001b[0;32m   1410\u001b[0m     meth \u001b[39m=\u001b[39m statement\u001b[39m.\u001b[39m_execute_on_connection\n\u001b[0;32m   1411\u001b[0m \u001b[39mexcept\u001b[39;00m \u001b[39mAttributeError\u001b[39;00m \u001b[39mas\u001b[39;00m err:\n\u001b[1;32m-> 1412\u001b[0m     \u001b[39mraise\u001b[39;00m exc\u001b[39m.\u001b[39mObjectNotExecutableError(statement) \u001b[39mfrom\u001b[39;00m \u001b[39merr\u001b[39;00m\n\u001b[0;32m   1413\u001b[0m \u001b[39melse\u001b[39;00m:\n\u001b[0;32m   1414\u001b[0m     \u001b[39mreturn\u001b[39;00m meth(\n\u001b[0;32m   1415\u001b[0m         \u001b[39mself\u001b[39m,\n\u001b[0;32m   1416\u001b[0m         distilled_parameters,\n\u001b[0;32m   1417\u001b[0m         execution_options \u001b[39mor\u001b[39;00m NO_OPTIONS,\n\u001b[0;32m   1418\u001b[0m     )\n",
      "\u001b[1;31mObjectNotExecutableError\u001b[0m: Not an executable object: 'SELECT [ID_Indicador] ,[NOM_Indicador] ,[TIPO_Indicador] ,[SIRVE_PARA] ,[PROCESO] ,[FORMULA] ,[UNIDADES],[META] \\n            ,[TENDENCIA_ESPERADA] ,[FRECUENCIA_MEDICION] ,[FUENTE_INFORMACION] ,[RESPONSABLE] ,[ACTUALIZADO_DATE],[ACTUALIZADO_POR] \\n            ,[LOG_SQL] FROM [CAPEX].[dbo].[SGI_Indicadores]\\n            '"
     ]
    }
   ],
   "source": [
    "\n",
    "\n",
    "Consulta_SQL = \"\"\"SELECT [ID_Indicador] ,[NOM_Indicador] ,[TIPO_Indicador] ,[SIRVE_PARA] ,[PROCESO] ,[FORMULA] ,[UNIDADES],[META] \n",
    "            ,[TENDENCIA_ESPERADA] ,[FRECUENCIA_MEDICION] ,[FUENTE_INFORMACION] ,[RESPONSABLE] ,[ACTUALIZADO_DATE],[ACTUALIZADO_POR] \n",
    "            ,[LOG_SQL] FROM [CAPEX].[dbo].[SGI_Indicadores]\n",
    "            \"\"\" \n",
    "\n",
    "pd.read_sql_query(Consulta_SQL, conn)\n",
    "\n",
    "data = pd.read_sql_query(\"SELECT [ID_Indicador] ,[NOM_Indicador] ,[TIPO_Indicador] ,[SIRVE_PARA] ,[PROCESO] ,[FORMULA] ,[UNIDADES],[META] ,[TENDENCIA_ESPERADA] ,[FRECUENCIA_MEDICION] ,[FUENTE_INFORMACION] ,[RESPONSABLE] ,[ACTUALIZADO_DATE],[ACTUALIZADO_POR] ,[LOG_SQL] FROM [CAPEX].[dbo].[SGI_Indicadores]\", conn)  \n",
    "\n",
    "data"
   ]
  }
 ],
 "metadata": {
  "kernelspec": {
   "display_name": "FLASK",
   "language": "python",
   "name": "python3"
  },
  "language_info": {
   "codemirror_mode": {
    "name": "ipython",
    "version": 3
   },
   "file_extension": ".py",
   "mimetype": "text/x-python",
   "name": "python",
   "nbconvert_exporter": "python",
   "pygments_lexer": "ipython3",
   "version": "3.11.0"
  },
  "orig_nbformat": 4
 },
 "nbformat": 4,
 "nbformat_minor": 2
}
