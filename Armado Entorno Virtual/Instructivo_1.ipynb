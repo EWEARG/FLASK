{
 "cells": [
  {
   "attachments": {},
   "cell_type": "markdown",
   "metadata": {},
   "source": [
    "### Intrucciones para armado del entorno virtual\n",
    "LINK: https://youtu.be/W2LCF3YYpIY \n",
    "\n"
   ]
  },
  {
   "attachments": {},
   "cell_type": "markdown",
   "metadata": {},
   "source": [
    "1-Crear directorio destino  (Abrir TERMINAL) mkdir miproyecto\n",
    "\n",
    "2-py -m venv .\\miproyecto\\\n",
    "\n",
    "    Se puede hacer desde la Terminal de CODE con:\n",
    "##  >  py -m venv .\n",
    "\n",
    "3- Otorgar permisos para instalar paquetes\n",
    "\n",
    "    Set-ExecutionPolicy -ExecutionPolicy RemoteSigned -Scope Process\n",
    "\n",
    "4- .\\Scripts\\activate\n",
    "\n",
    "5- .\\Scripts\\deactivate\n"
   ]
  },
  {
   "cell_type": "code",
   "execution_count": null,
   "metadata": {},
   "outputs": [],
   "source": [
    "## Para ver que Módulos estan instalados\n",
    "\n",
    "## Asegurarse de Cambiar la variable PATH para que incluya --> 'C:\\Users\\eettlin.ENERGIAER\\AppData\\Local\\Programs\\Python\\Python311\\Scripts\n"
   ]
  },
  {
   "attachments": {},
   "cell_type": "markdown",
   "metadata": {},
   "source": [
    "pyPS D:\\Proyectos_PYTHON\\DS_CODER> py -m venv .            \n",
    "\n",
    "PS D:\\Proyectos_PYTHON\\DS_CODER> Set-ExecutionPolicy -ExecutionPolicy RemoteSigned -Scope Process  \n",
    "\n",
    "PS D:\\Proyectos_PYTHON\\DS_CODER> cd .\\Scripts\\   \n",
    "\n",
    "PS D:\\Proyectos_PYTHON\\DS_CODER\\Scripts> cd ..\n",
    "\n",
    "PS D:\\Proyectos_PYTHON\\DS_CODER> .\\Scripts\\activate\n",
    "\n",
    "(DS_CODER) PS D:\\Proyectos_PYTHON\\DS_CODER> "
   ]
  },
  {
   "attachments": {},
   "cell_type": "markdown",
   "metadata": {},
   "source": [
    "## Para ver que módulos estan instalados\n",
    "\n",
    "pip freeze\n",
    "\n",
    "py --version\n",
    "\n"
   ]
  },
  {
   "attachments": {},
   "cell_type": "markdown",
   "metadata": {},
   "source": [
    "## MODULE NOT FOUND\n",
    "\n",
    "https://stephenallwright.com/no-module-named-pandas/ \n",
    "\n",
    "En la línea de comando del sistema ejecutar la correcta instalación\n",
    "Cambiar al directorio elegido\n",
    "\n",
    "PS D:\\Proyectos_PYTHON\\DS_CODER> py -m pip install -U pandas\n",
    "\n"
   ]
  },
  {
   "attachments": {},
   "cell_type": "markdown",
   "metadata": {},
   "source": [
    "## ALTERNATIVA para usar mi Google drive\n",
    "\n",
    "https://stackoverflow.com/questions/48376580/google-colab-how-to-read-data-from-my-google-drive \n",
    "\n"
   ]
  },
  {
   "attachments": {},
   "cell_type": "markdown",
   "metadata": {},
   "source": [
    "## Colaboratory\n",
    "\n",
    "https://research.google.com/colaboratory/local-runtimes.html\n",
    "\n",
    "https://www.jcchouinard.com/google-colab-with-python/\n",
    "\n",
    "https://robotwealth.com/how-to-connect-google-colab-to-a-local-jupyter-runtime/\n",
    "\n",
    "\n",
    "**Instrucciones de configuración**\n",
    "\n",
    "Para permitir que Colaboratory se conecte al servidor de Jupyter que se ejecuta de forma local, deberás realizar los siguientes pasos.\n",
    "\n",
    "Paso 1: Instala Jupyter\n",
    "Instala Jupyter en tu máquina local.\n",
    "\n",
    "Paso 2: Instala y habilita la extensión jupyter_http_over_ws de Jupyter (una vez)\n",
    "La extensión jupyter_http_over_ws cuenta con la autorización del equipo de Colaboratory y está disponible en GitHub.\n",
    "\n",
    "pip install jupyter_http_over_ws\n",
    "jupyter serverextension enable --py jupyter_http_over_ws\n",
    "Paso 3: Inicia el servidor y autentícalo\n",
    "Si bien los nuevos servidores de blocs de notas se inician normalmente, deberás establecer una marca para determinar de forma explícita que confías en las conexiones de WebSocket del frontend de Colaboratory.\n",
    "\n",
    "jupyter notebook \\\n",
    "  --NotebookApp.allow_origin='https://colab.research.google.com' \\\n",
    "  --port=8888 \\\n",
    "  --NotebookApp.port_retries=0\n",
    "    \n",
    "Una vez que se inicie el servidor, mostrará un mensaje con la URL de backend inicial utilizada para la autenticación. Copia esa URL, ya que la necesitarás en el siguiente paso.\n",
    "\n",
    "Paso 4: Conéctate al entorno de ejecución local\n",
    "En Colaboratory, haz clic en el botón \"Conectar\" y selecciona \"Conectar a un entorno de ejecución local…\". Ingresa la URL del paso anterior en el cuadro de diálogo que aparece y haz clic en el botón \"Conectar\". Debería establecerse conexión con tu entorno de ejecución local."
   ]
  }
 ],
 "metadata": {
  "kernelspec": {
   "display_name": "Python 3",
   "language": "python",
   "name": "python3"
  },
  "language_info": {
   "name": "python",
   "version": "3.11.0 (main, Oct 24 2022, 18:26:48) [MSC v.1933 64 bit (AMD64)]"
  },
  "orig_nbformat": 4,
  "vscode": {
   "interpreter": {
    "hash": "0d161cc98b142b4f7b797d063da63926eeaf0b2bd8c519bb97ebc4ae9d537264"
   }
  }
 },
 "nbformat": 4,
 "nbformat_minor": 2
}
